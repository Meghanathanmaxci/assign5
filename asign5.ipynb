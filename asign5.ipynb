{
 "cells": [
  {
   "cell_type": "markdown",
   "id": "5ef40ca8",
   "metadata": {},
   "source": [
    "## Write a Python class to implement pow(x, n)\n",
    "\n",
    "# Sample Input:\n",
    "\n",
    "                 # x: 10\n",
    "\n",
    "                 # n: 2\n",
    "# output :\n",
    "                 # 100"
   ]
  },
  {
   "cell_type": "code",
   "execution_count": 1,
   "id": "a97c73d6",
   "metadata": {},
   "outputs": [],
   "source": [
    "class power:\n",
    "    def __init__(self,x,n):\n",
    "        self.x = int(input(\"Enter the value of x : \"))\n",
    "        self.n = int(input(\"Enter the value of n  : \"))\n",
    "    def pow(self):\n",
    "        print(self.x**self.n)"
   ]
  },
  {
   "cell_type": "code",
   "execution_count": 3,
   "id": "33d000af",
   "metadata": {},
   "outputs": [
    {
     "name": "stdout",
     "output_type": "stream",
     "text": [
      "Enter the value of x : 10\n",
      "Enter the value of n  : 2\n",
      "100\n"
     ]
    }
   ],
   "source": [
    "m = power('x','n')\n",
    "m.pow()"
   ]
  },
  {
   "cell_type": "code",
   "execution_count": null,
   "id": "173148eb",
   "metadata": {},
   "outputs": [],
   "source": []
  }
 ],
 "metadata": {
  "kernelspec": {
   "display_name": "Python 3 (ipykernel)",
   "language": "python",
   "name": "python3"
  },
  "language_info": {
   "codemirror_mode": {
    "name": "ipython",
    "version": 3
   },
   "file_extension": ".py",
   "mimetype": "text/x-python",
   "name": "python",
   "nbconvert_exporter": "python",
   "pygments_lexer": "ipython3",
   "version": "3.10.1"
  }
 },
 "nbformat": 4,
 "nbformat_minor": 5
}
